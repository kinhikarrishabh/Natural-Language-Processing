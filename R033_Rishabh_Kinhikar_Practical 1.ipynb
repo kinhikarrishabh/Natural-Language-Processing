{
 "cells": [
  {
   "cell_type": "code",
   "execution_count": 1,
   "id": "595689e5",
   "metadata": {},
   "outputs": [],
   "source": [
    "import nltk\n",
    "from nltk.corpus import stopwords\n",
    "import matplotlib.pyplot as plt"
   ]
  },
  {
   "cell_type": "code",
   "execution_count": 2,
   "id": "0163c207",
   "metadata": {},
   "outputs": [],
   "source": [
    "text='Hi i am the best person in the world?>:!!!} hahahah, I am playing and studied yesterday, and my englishes good, funcionality'"
   ]
  },
  {
   "cell_type": "markdown",
   "id": "51b5d0a5",
   "metadata": {},
   "source": [
    "# To implement operations such as change of case"
   ]
  },
  {
   "cell_type": "code",
   "execution_count": 3,
   "id": "1f1c986e",
   "metadata": {},
   "outputs": [],
   "source": [
    "lower_text=text.lower()"
   ]
  },
  {
   "cell_type": "code",
   "execution_count": 4,
   "id": "9e3caa8c",
   "metadata": {},
   "outputs": [
    {
     "data": {
      "text/plain": [
       "'hi i am the best person in the world?>:!!!} hahahah, i am playing and studied yesterday, and my englishes good, funcionality'"
      ]
     },
     "execution_count": 4,
     "metadata": {},
     "output_type": "execute_result"
    }
   ],
   "source": [
    "lower_text"
   ]
  },
  {
   "cell_type": "markdown",
   "id": "54dfb4b4",
   "metadata": {},
   "source": [
    "# To implement operations such as sentence tokenization"
   ]
  },
  {
   "cell_type": "code",
   "execution_count": 5,
   "id": "881ab8c9",
   "metadata": {},
   "outputs": [
    {
     "data": {
      "text/plain": [
       "['Hi i am the best person in the world?>:!!!}',\n",
       " 'hahahah, I am playing and studied yesterday, and my englishes good, funcionality']"
      ]
     },
     "execution_count": 5,
     "metadata": {},
     "output_type": "execute_result"
    }
   ],
   "source": [
    "nltk.sent_tokenize(text)"
   ]
  },
  {
   "cell_type": "markdown",
   "id": "ece77d63",
   "metadata": {},
   "source": [
    "# To implement operations such as word tokenization"
   ]
  },
  {
   "cell_type": "code",
   "execution_count": 6,
   "id": "4fdba1f7",
   "metadata": {},
   "outputs": [
    {
     "data": {
      "text/plain": [
       "['Hi',\n",
       " 'i',\n",
       " 'am',\n",
       " 'the',\n",
       " 'best',\n",
       " 'person',\n",
       " 'in',\n",
       " 'the',\n",
       " 'world',\n",
       " '?',\n",
       " '>',\n",
       " ':',\n",
       " '!',\n",
       " '!',\n",
       " '!',\n",
       " '}',\n",
       " 'hahahah',\n",
       " ',',\n",
       " 'I',\n",
       " 'am',\n",
       " 'playing',\n",
       " 'and',\n",
       " 'studied',\n",
       " 'yesterday',\n",
       " ',',\n",
       " 'and',\n",
       " 'my',\n",
       " 'englishes',\n",
       " 'good',\n",
       " ',',\n",
       " 'funcionality']"
      ]
     },
     "execution_count": 6,
     "metadata": {},
     "output_type": "execute_result"
    }
   ],
   "source": [
    "nltk.word_tokenize(text)"
   ]
  },
  {
   "cell_type": "markdown",
   "id": "56cf92bf",
   "metadata": {},
   "source": [
    "# To implement operations such as stop words removal"
   ]
  },
  {
   "cell_type": "code",
   "execution_count": 7,
   "id": "082d54f6",
   "metadata": {},
   "outputs": [],
   "source": [
    "word=nltk.word_tokenize(text)\n"
   ]
  },
  {
   "cell_type": "code",
   "execution_count": 8,
   "id": "3b8b2e01",
   "metadata": {},
   "outputs": [
    {
     "data": {
      "text/plain": [
       "['Hi',\n",
       " 'i',\n",
       " 'am',\n",
       " 'the',\n",
       " 'best',\n",
       " 'person',\n",
       " 'in',\n",
       " 'the',\n",
       " 'world',\n",
       " '?',\n",
       " '>',\n",
       " ':',\n",
       " '!',\n",
       " '!',\n",
       " '!',\n",
       " '}',\n",
       " 'hahahah',\n",
       " ',',\n",
       " 'I',\n",
       " 'am',\n",
       " 'playing',\n",
       " 'and',\n",
       " 'studied',\n",
       " 'yesterday',\n",
       " ',',\n",
       " 'and',\n",
       " 'my',\n",
       " 'englishes',\n",
       " 'good',\n",
       " ',',\n",
       " 'funcionality']"
      ]
     },
     "execution_count": 8,
     "metadata": {},
     "output_type": "execute_result"
    }
   ],
   "source": [
    "word"
   ]
  },
  {
   "cell_type": "code",
   "execution_count": 8,
   "id": "5f2ab718",
   "metadata": {},
   "outputs": [],
   "source": [
    "stopwords=stopwords.words('english')"
   ]
  },
  {
   "cell_type": "code",
   "execution_count": 9,
   "id": "6a41b3c0",
   "metadata": {},
   "outputs": [],
   "source": [
    "list_of_words=[i for i in word if i not in stopwords]"
   ]
  },
  {
   "cell_type": "code",
   "execution_count": 10,
   "id": "a2e6f37f",
   "metadata": {},
   "outputs": [
    {
     "data": {
      "text/plain": [
       "['Hi',\n",
       " 'best',\n",
       " 'person',\n",
       " 'world',\n",
       " '?',\n",
       " '>',\n",
       " ':',\n",
       " '!',\n",
       " '!',\n",
       " '!',\n",
       " '}',\n",
       " 'hahahah',\n",
       " ',',\n",
       " 'I',\n",
       " 'playing',\n",
       " 'studied',\n",
       " 'yesterday',\n",
       " ',',\n",
       " 'englishes',\n",
       " 'good',\n",
       " ',',\n",
       " 'funcionality']"
      ]
     },
     "execution_count": 10,
     "metadata": {},
     "output_type": "execute_result"
    }
   ],
   "source": [
    "list_of_words"
   ]
  },
  {
   "cell_type": "markdown",
   "id": "c6902a71",
   "metadata": {},
   "source": [
    "# To implement operations such as punctuation mark removal"
   ]
  },
  {
   "cell_type": "code",
   "execution_count": 11,
   "id": "b78a11f0",
   "metadata": {},
   "outputs": [],
   "source": [
    "import regex as re"
   ]
  },
  {
   "cell_type": "code",
   "execution_count": 12,
   "id": "34b8640c",
   "metadata": {},
   "outputs": [],
   "source": [
    "py_newstring=re.sub(r'[^\\w\\s]','',text)"
   ]
  },
  {
   "cell_type": "code",
   "execution_count": 13,
   "id": "dda584cc",
   "metadata": {},
   "outputs": [
    {
     "data": {
      "text/plain": [
       "'Hi i am the best person in the world hahahah I am playing and studied yesterday and my englishes good funcionality'"
      ]
     },
     "execution_count": 13,
     "metadata": {},
     "output_type": "execute_result"
    }
   ],
   "source": [
    "py_newstring"
   ]
  },
  {
   "cell_type": "markdown",
   "id": "253a4451",
   "metadata": {},
   "source": [
    "# To implement operations such as stemming"
   ]
  },
  {
   "cell_type": "code",
   "execution_count": 14,
   "id": "74f9646b",
   "metadata": {},
   "outputs": [],
   "source": [
    "from nltk.stem import SnowballStemmer"
   ]
  },
  {
   "cell_type": "code",
   "execution_count": 15,
   "id": "51a91dd4",
   "metadata": {},
   "outputs": [],
   "source": [
    "snowball_stemmer=SnowballStemmer('english')"
   ]
  },
  {
   "cell_type": "code",
   "execution_count": 16,
   "id": "c6fb0c67",
   "metadata": {},
   "outputs": [],
   "source": [
    "words_tokens=nltk.word_tokenize(text)"
   ]
  },
  {
   "cell_type": "code",
   "execution_count": 17,
   "id": "3777db8a",
   "metadata": {},
   "outputs": [],
   "source": [
    "stemmed_words=[snowball_stemmer.stem(word) for word in words_tokens]"
   ]
  },
  {
   "cell_type": "code",
   "execution_count": 18,
   "id": "64a5888e",
   "metadata": {},
   "outputs": [
    {
     "data": {
      "text/plain": [
       "['hi',\n",
       " 'i',\n",
       " 'am',\n",
       " 'the',\n",
       " 'best',\n",
       " 'person',\n",
       " 'in',\n",
       " 'the',\n",
       " 'world',\n",
       " '?',\n",
       " '>',\n",
       " ':',\n",
       " '!',\n",
       " '!',\n",
       " '!',\n",
       " '}',\n",
       " 'hahahah',\n",
       " ',',\n",
       " 'i',\n",
       " 'am',\n",
       " 'play',\n",
       " 'and',\n",
       " 'studi',\n",
       " 'yesterday',\n",
       " ',',\n",
       " 'and',\n",
       " 'my',\n",
       " 'english',\n",
       " 'good',\n",
       " ',',\n",
       " 'funcion']"
      ]
     },
     "execution_count": 18,
     "metadata": {},
     "output_type": "execute_result"
    }
   ],
   "source": [
    "stemmed_words"
   ]
  },
  {
   "cell_type": "markdown",
   "id": "42f5bd28",
   "metadata": {},
   "source": [
    "# Lemmatization"
   ]
  },
  {
   "cell_type": "code",
   "execution_count": 19,
   "id": "53fd5cb1",
   "metadata": {},
   "outputs": [],
   "source": [
    "from nltk.stem import WordNetLemmatizer"
   ]
  },
  {
   "cell_type": "code",
   "execution_count": 20,
   "id": "11d70980",
   "metadata": {},
   "outputs": [],
   "source": [
    "word_net=WordNetLemmatizer()"
   ]
  },
  {
   "cell_type": "code",
   "execution_count": 21,
   "id": "97236087",
   "metadata": {},
   "outputs": [],
   "source": [
    "lemmatized_word=[word_net.lemmatize(i) for i in words_tokens]"
   ]
  },
  {
   "cell_type": "code",
   "execution_count": 22,
   "id": "4cd64a60",
   "metadata": {},
   "outputs": [
    {
     "data": {
      "text/plain": [
       "['Hi',\n",
       " 'i',\n",
       " 'am',\n",
       " 'the',\n",
       " 'best',\n",
       " 'person',\n",
       " 'in',\n",
       " 'the',\n",
       " 'world',\n",
       " '?',\n",
       " '>',\n",
       " ':',\n",
       " '!',\n",
       " '!',\n",
       " '!',\n",
       " '}',\n",
       " 'hahahah',\n",
       " ',',\n",
       " 'I',\n",
       " 'am',\n",
       " 'playing',\n",
       " 'and',\n",
       " 'studied',\n",
       " 'yesterday',\n",
       " ',',\n",
       " 'and',\n",
       " 'my',\n",
       " 'english',\n",
       " 'good',\n",
       " ',',\n",
       " 'funcionality']"
      ]
     },
     "execution_count": 22,
     "metadata": {},
     "output_type": "execute_result"
    }
   ],
   "source": [
    "lemmatized_word"
   ]
  },
  {
   "cell_type": "markdown",
   "id": "0d197ecb",
   "metadata": {},
   "source": [
    "# POS"
   ]
  },
  {
   "cell_type": "code",
   "execution_count": 23,
   "id": "fb303063",
   "metadata": {},
   "outputs": [
    {
     "data": {
      "text/plain": [
       "[('Hi', 'NNP'),\n",
       " ('i', 'NN'),\n",
       " ('am', 'VBP'),\n",
       " ('the', 'DT'),\n",
       " ('best', 'JJS'),\n",
       " ('person', 'NN'),\n",
       " ('in', 'IN'),\n",
       " ('the', 'DT'),\n",
       " ('world', 'NN'),\n",
       " ('?', '.'),\n",
       " ('>', 'NN'),\n",
       " (':', ':'),\n",
       " ('!', '.'),\n",
       " ('!', '.'),\n",
       " ('!', '.'),\n",
       " ('}', ')'),\n",
       " ('hahahah', 'NN'),\n",
       " (',', ','),\n",
       " ('I', 'PRP'),\n",
       " ('am', 'VBP'),\n",
       " ('playing', 'VBG'),\n",
       " ('and', 'CC'),\n",
       " ('studied', 'VBN'),\n",
       " ('yesterday', 'NN'),\n",
       " (',', ','),\n",
       " ('and', 'CC'),\n",
       " ('my', 'PRP$'),\n",
       " ('englishes', 'NNS'),\n",
       " ('good', 'JJ'),\n",
       " (',', ','),\n",
       " ('funcionality', 'NN')]"
      ]
     },
     "execution_count": 23,
     "metadata": {},
     "output_type": "execute_result"
    }
   ],
   "source": [
    "nltk.pos_tag(words_tokens)"
   ]
  },
  {
   "cell_type": "markdown",
   "id": "8a9aafc7",
   "metadata": {},
   "source": [
    "# B : Implement tokenization without using built in function of nltk"
   ]
  },
  {
   "cell_type": "code",
   "execution_count": 24,
   "id": "6b7242d0",
   "metadata": {},
   "outputs": [
    {
     "data": {
      "text/plain": [
       "['Hi',\n",
       " 'i',\n",
       " 'am',\n",
       " 'the',\n",
       " 'best',\n",
       " 'person',\n",
       " 'in',\n",
       " 'the',\n",
       " 'world?>:!!!}',\n",
       " 'hahahah,',\n",
       " 'I',\n",
       " 'am',\n",
       " 'playing',\n",
       " 'and',\n",
       " 'studied',\n",
       " 'yesterday,',\n",
       " 'and',\n",
       " 'my',\n",
       " 'englishes',\n",
       " 'good,',\n",
       " 'funcionality']"
      ]
     },
     "execution_count": 24,
     "metadata": {},
     "output_type": "execute_result"
    }
   ],
   "source": [
    "text.split()"
   ]
  },
  {
   "cell_type": "markdown",
   "id": "099b3ff3",
   "metadata": {},
   "source": [
    "# C. To comprehend the difference between stemming and lemmatization"
   ]
  },
  {
   "cell_type": "markdown",
   "id": "07e104d2",
   "metadata": {},
   "source": [
    "# D. To Count the no of frequency of each words"
   ]
  },
  {
   "cell_type": "code",
   "execution_count": 26,
   "id": "cf1c4d47",
   "metadata": {},
   "outputs": [
    {
     "data": {
      "text/plain": [
       "['Hi',\n",
       " 'i',\n",
       " 'am',\n",
       " 'the',\n",
       " 'best',\n",
       " 'person',\n",
       " 'in',\n",
       " 'the',\n",
       " 'world',\n",
       " '?',\n",
       " '>',\n",
       " ':',\n",
       " '!',\n",
       " '!',\n",
       " '!',\n",
       " '}',\n",
       " 'hahahah',\n",
       " ',',\n",
       " 'I',\n",
       " 'am',\n",
       " 'playing',\n",
       " 'and',\n",
       " 'studied',\n",
       " 'yesterday',\n",
       " ',',\n",
       " 'and',\n",
       " 'my',\n",
       " 'englishes',\n",
       " 'good',\n",
       " ',',\n",
       " 'funcionality']"
      ]
     },
     "execution_count": 26,
     "metadata": {},
     "output_type": "execute_result"
    }
   ],
   "source": [
    "words_tokens"
   ]
  },
  {
   "cell_type": "code",
   "execution_count": 27,
   "id": "7f9fd03d",
   "metadata": {},
   "outputs": [],
   "source": [
    "list_words=[i for i in words_tokens]"
   ]
  },
  {
   "cell_type": "code",
   "execution_count": 28,
   "id": "381ab3ba",
   "metadata": {},
   "outputs": [
    {
     "data": {
      "text/plain": [
       "['Hi',\n",
       " 'i',\n",
       " 'am',\n",
       " 'the',\n",
       " 'best',\n",
       " 'person',\n",
       " 'in',\n",
       " 'the',\n",
       " 'world',\n",
       " '?',\n",
       " '>',\n",
       " ':',\n",
       " '!',\n",
       " '!',\n",
       " '!',\n",
       " '}',\n",
       " 'hahahah',\n",
       " ',',\n",
       " 'I',\n",
       " 'am',\n",
       " 'playing',\n",
       " 'and',\n",
       " 'studied',\n",
       " 'yesterday',\n",
       " ',',\n",
       " 'and',\n",
       " 'my',\n",
       " 'englishes',\n",
       " 'good',\n",
       " ',',\n",
       " 'funcionality']"
      ]
     },
     "execution_count": 28,
     "metadata": {},
     "output_type": "execute_result"
    }
   ],
   "source": [
    "list_words"
   ]
  },
  {
   "cell_type": "code",
   "execution_count": 30,
   "id": "9ca2f8b1",
   "metadata": {},
   "outputs": [
    {
     "name": "stdout",
     "output_type": "stream",
     "text": [
      "{'Hi': 1, 'i': 1, 'am': 2, 'the': 2, 'best': 1, 'person': 1, 'in': 1, 'world': 1, '?': 1, '>': 1, ':': 1, '!': 3, '}': 1, 'hahahah': 1, ',': 3, 'I': 1, 'playing': 1, 'and': 2, 'studied': 1, 'yesterday': 1, 'my': 1, 'englishes': 1, 'good': 1, 'funcionality': 1}\n"
     ]
    }
   ],
   "source": [
    "frequency={}\n",
    "\n",
    "\n",
    "for item in words_tokens:\n",
    "    if item in frequency:\n",
    "        frequency[item]+=1\n",
    "        \n",
    "    else:\n",
    "        frequency[item]=1\n",
    "        \n",
    "print(frequency)"
   ]
  },
  {
   "cell_type": "code",
   "execution_count": 41,
   "id": "44b8ef10",
   "metadata": {
    "scrolled": true
   },
   "outputs": [
    {
     "data": {
      "text/plain": [
       "[<matplotlib.lines.Line2D at 0x1cc477f6e00>]"
      ]
     },
     "execution_count": 41,
     "metadata": {},
     "output_type": "execute_result"
    },
    {
     "data": {
      "image/png": "[encoded data removed]",
      "text/plain": [
       "<Figure size 2000x500 with 1 Axes>"
      ]
     },
     "metadata": {},
     "output_type": "display_data"
    }
   ],
   "source": [
    "x=frequency.keys()\n",
    "y=frequency.values()\n",
    "plt.figure(figsize=(20,5))\n",
    "plt.plot(x,y)"
   ]
  },
  {
   "cell_type": "markdown",
   "id": "10fa5c2e",
   "metadata": {},
   "source": [
    "# CONCLUSION"
   ]
  },
  {
   "cell_type": "markdown",
   "id": "c8048f31",
   "metadata": {},
   "source": [
    "# Stemming is a process that removes last few characters from a word, sometimes which leads to incorrect meanings and spelling. \n",
    "\n",
    "# Lemmatization considers the context and converts the word to its meaningful base form"
   ]
  },
  {
   "cell_type": "code",
   "execution_count": null,
   "id": "c3c87b53",
   "metadata": {},
   "outputs": [],
   "source": []
  }
 ],
 "metadata": {
  "kernelspec": {
   "display_name": "Python 3 (ipykernel)",
   "language": "python",
   "name": "python3"
  },
  "language_info": {
   "codemirror_mode": {
    "name": "ipython",
    "version": 3
   },
   "file_extension": ".py",
   "mimetype": "text/x-python",
   "name": "python",
   "nbconvert_exporter": "python",
   "pygments_lexer": "ipython3",
   "version": "3.10.6"
  }
 },
 "nbformat": 4,
 "nbformat_minor": 5
}
