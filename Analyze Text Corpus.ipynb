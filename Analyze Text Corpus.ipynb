{
 "cells": [
  {
   "cell_type": "markdown",
   "id": "60398a0a",
   "metadata": {},
   "source": [
    "# Lab03 - 08/08/2003\n",
    "# MBATECH AI\n",
    "# Rishabh Kinhikar\n",
    "# R033"
   ]
  },
  {
   "cell_type": "code",
   "execution_count": 15,
   "id": "98d9cc12",
   "metadata": {},
   "outputs": [],
   "source": [
    "import nltk\n",
    "from nltk.corpus import gutenberg as gt\n",
    "from nltk import *"
   ]
  },
  {
   "cell_type": "code",
   "execution_count": 5,
   "id": "9ebb72cb",
   "metadata": {},
   "outputs": [
    {
     "name": "stderr",
     "output_type": "stream",
     "text": [
      "[nltk_data] Downloading package gutenberg to\n",
      "[nltk_data]     C:\\Users\\risha\\AppData\\Roaming\\nltk_data...\n",
      "[nltk_data]   Unzipping corpora\\gutenberg.zip.\n"
     ]
    },
    {
     "data": {
      "text/plain": [
       "True"
      ]
     },
     "execution_count": 5,
     "metadata": {},
     "output_type": "execute_result"
    }
   ],
   "source": [
    "nltk.download('gutenberg')"
   ]
  },
  {
   "cell_type": "markdown",
   "id": "35072d7e",
   "metadata": {},
   "source": [
    "# Task:\n",
    "\n",
    "## a. To access Gutenberg corpus from nltk, list all the texts available"
   ]
  },
  {
   "cell_type": "code",
   "execution_count": 6,
   "id": "00b470bf",
   "metadata": {},
   "outputs": [
    {
     "data": {
      "text/plain": [
       "['austen-emma.txt',\n",
       " 'austen-persuasion.txt',\n",
       " 'austen-sense.txt',\n",
       " 'bible-kjv.txt',\n",
       " 'blake-poems.txt',\n",
       " 'bryant-stories.txt',\n",
       " 'burgess-busterbrown.txt',\n",
       " 'carroll-alice.txt',\n",
       " 'chesterton-ball.txt',\n",
       " 'chesterton-brown.txt',\n",
       " 'chesterton-thursday.txt',\n",
       " 'edgeworth-parents.txt',\n",
       " 'melville-moby_dick.txt',\n",
       " 'milton-paradise.txt',\n",
       " 'shakespeare-caesar.txt',\n",
       " 'shakespeare-hamlet.txt',\n",
       " 'shakespeare-macbeth.txt',\n",
       " 'whitman-leaves.txt']"
      ]
     },
     "execution_count": 6,
     "metadata": {},
     "output_type": "execute_result"
    }
   ],
   "source": [
    "gt.fileids()"
   ]
  },
  {
   "cell_type": "code",
   "execution_count": 7,
   "id": "3dede81a",
   "metadata": {},
   "outputs": [
    {
     "data": {
      "text/plain": [
       "98171"
      ]
     },
     "execution_count": 7,
     "metadata": {},
     "output_type": "execute_result"
    }
   ],
   "source": [
    "len(gt.words(gt.fileids()[1]))"
   ]
  },
  {
   "cell_type": "code",
   "execution_count": 8,
   "id": "326bb472",
   "metadata": {},
   "outputs": [
    {
     "data": {
      "text/plain": [
       "['[', 'Persuasion', 'by', 'Jane', 'Austen', '1818', ...]"
      ]
     },
     "execution_count": 8,
     "metadata": {},
     "output_type": "execute_result"
    }
   ],
   "source": [
    "gt.words(gt.fileids()[1])"
   ]
  },
  {
   "cell_type": "code",
   "execution_count": 10,
   "id": "113bea91",
   "metadata": {},
   "outputs": [
    {
     "data": {
      "text/plain": [
       "466292"
      ]
     },
     "execution_count": 10,
     "metadata": {},
     "output_type": "execute_result"
    }
   ],
   "source": [
    "len(gt.raw(gt.fileids()[1]))"
   ]
  },
  {
   "cell_type": "code",
   "execution_count": 11,
   "id": "0dffb2fc",
   "metadata": {},
   "outputs": [
    {
     "data": {
      "text/plain": [
       "3747"
      ]
     },
     "execution_count": 11,
     "metadata": {},
     "output_type": "execute_result"
    }
   ],
   "source": [
    "len(gt.sents(gt.fileids()[1]))"
   ]
  },
  {
   "cell_type": "code",
   "execution_count": 12,
   "id": "639a2161",
   "metadata": {},
   "outputs": [
    {
     "name": "stderr",
     "output_type": "stream",
     "text": [
      "Building ngram index...\n"
     ]
    },
    {
     "name": "stdout",
     "output_type": "stream",
     "text": [
      "jealousy at not being supposed to be affected by his father and\n",
      "Elizabeth , that it is only to Captain Wentworth looked round at her\n",
      "disposal . , saw him coming after them , for Charles Hayter ; and not\n",
      "sorry for the sort which must be going away for a month : and \" Mr and\n",
      "Mrs Croft was attending his two ladies were sitting , took up the\n",
      "newspaper ; and I thought very affectionately of the connexion in\n",
      "every respect , and the whole party as friends of Captain Benwick ,\n",
      "than any other family . asked\n"
     ]
    },
    {
     "data": {
      "text/plain": [
       "'jealousy at not being supposed to be affected by his father and\\nElizabeth , that it is only to Captain Wentworth looked round at her\\ndisposal . , saw him coming after them , for Charles Hayter ; and not\\nsorry for the sort which must be going away for a month : and \" Mr and\\nMrs Croft was attending his two ladies were sitting , took up the\\nnewspaper ; and I thought very affectionately of the connexion in\\nevery respect , and the whole party as friends of Captain Benwick ,\\nthan any other family . asked'"
      ]
     },
     "execution_count": 12,
     "metadata": {},
     "output_type": "execute_result"
    }
   ],
   "source": [
    "nltk.Text(nltk.corpus.gutenberg.words(nltk.corpus.gutenberg.fileids()[1])).generate()"
   ]
  },
  {
   "cell_type": "code",
   "execution_count": 13,
   "id": "2707c78c",
   "metadata": {},
   "outputs": [
    {
     "name": "stdout",
     "output_type": "stream",
     "text": [
      "Displaying 25 of 77 matches:\n",
      " and by inserting most accurately the day of the month on which he had lost his\n",
      "received none : Elizabeth would , one day or other , marry suitably . It someti\n",
      "imself , than in any other line . One day last spring , in town , I was in comp\n",
      "still remained at Taunton , and fix a day for the house being seen . Sir Walter\n",
      "foreseeing that she should not have a day ' s health all the autumn , entreated\n",
      "em . I have not seen one of them to - day , except Mr Musgrove , who just stopp\n",
      "k it very likely that my illness to - day may be owing to it .\" A little furthe\n",
      "ck sick and cross for the rest of the day .\" And Mrs Musgrove took the first op\n",
      ", are gadding about the village , all day long . I meet them wherever I go ; an\n",
      "t home as to lose her place . And one day when Anne was walking with only the M\n",
      ", on having occasion to note down the day of the month , exclaimed , \" Dear me \n",
      "claimed , \" Dear me , is not this the day the Crofts were to come to Kellynch ?\n",
      "les into driving her over on an early day , and was in a very animated , comfor\n",
      "use were to spend the evening of this day at the Cottage ; and it being now too\n",
      "have been suddenly struck , this very day , with a recollection of the name of \n",
      "o Mr Musgrove to find that no earlier day could be fixed , so impatient was he \n",
      "ight , and was going on well the next day . It must be a work of time to ascert\n",
      ", but the case is very different to - day .\" \" Well , if you do not think it to\n",
      "as a better sloop than the Asp in her day . For an old built sloop , you would \n",
      " pretty well what she was before that day ;\" said he , smiling . \" I had no mor\n",
      " and which at last , on some very wet day , is lent to yourself . Ah ! she was \n",
      " said Mrs Musgrove , \" it was a lucky day for us , when you were put captain in\n",
      "soon Uppercross with him almost every day . The Musgroves could hardly be more \n",
      "- house . It was a very fine November day , and the Miss Musgroves came through\n",
      " must arise from the exercise and the day , from the view of the last smiles of\n"
     ]
    }
   ],
   "source": [
    "nltk.Text(nltk.corpus.gutenberg.words(nltk.corpus.gutenberg.fileids()[1])).concordance('day')"
   ]
  },
  {
   "cell_type": "markdown",
   "id": "8295695c",
   "metadata": {},
   "source": [
    "## b. To write a function to know the following about each text in the corpus using raw(), sents(),words() functions from nltk\n",
    "\n",
    "        a.Total number of words\n",
    "\n",
    "        b.Total number of characters\n",
    "\n",
    "        c.Total number of sentences\n",
    "\n",
    "        d.Average characters per words\n",
    "\n",
    "        e.Type Token Ratio (TTR) and comment about lexical richness of each text"
   ]
  },
  {
   "cell_type": "code",
   "execution_count": 19,
   "id": "a6bf247d",
   "metadata": {},
   "outputs": [],
   "source": [
    "class info_gut:\n",
    "    from nltk.corpus import gutenberg as gt\n",
    "    \n",
    "    def __init__(self, fileid):\n",
    "        self.fileid = fileid\n",
    "        print(f\"Name Of The Book is: {self.fileid}\")\n",
    "        self.w_len = len(gt.words(self.fileid))\n",
    "    \n",
    "    def word_len(self):\n",
    "        return self.w_len\n",
    "    \n",
    "    def char_len(self):\n",
    "        return len(gt.raw(self.fileid))\n",
    "    \n",
    "    def sent_len(self):\n",
    "        return len(gt.sents(self.fileid))\n",
    "    \n",
    "    def char_avg(self):\n",
    "        return len(gt.raw(self.fileid))/len(gt.words(self.fileid))\n",
    "    \n",
    "    def ttr(self):\n",
    "        vocab = len(nltk.Text(gt.words(gt.fileids()[0])).vocab().keys())\n",
    "        print(\"Length Of Vocab : \",vocab)\n",
    "        print(\"Total Words : \", self.w_len)\n",
    "        return vocab/self.w_len"
   ]
  },
  {
   "cell_type": "code",
   "execution_count": 20,
   "id": "194c7039",
   "metadata": {},
   "outputs": [
    {
     "data": {
      "text/plain": [
       "'austen-persuasion.txt'"
      ]
     },
     "execution_count": 20,
     "metadata": {},
     "output_type": "execute_result"
    }
   ],
   "source": [
    "gt.fileids()[1]"
   ]
  },
  {
   "cell_type": "code",
   "execution_count": 21,
   "id": "3d88d398",
   "metadata": {},
   "outputs": [
    {
     "name": "stdout",
     "output_type": "stream",
     "text": [
      "Name Of The Book is: austen-persuasion.txt\n"
     ]
    }
   ],
   "source": [
    "x = info_gut(gt.fileids()[1])"
   ]
  },
  {
   "cell_type": "code",
   "execution_count": 22,
   "id": "b7e732e7",
   "metadata": {},
   "outputs": [
    {
     "data": {
      "text/plain": [
       "98171"
      ]
     },
     "execution_count": 22,
     "metadata": {},
     "output_type": "execute_result"
    }
   ],
   "source": [
    "x.word_len()"
   ]
  },
  {
   "cell_type": "code",
   "execution_count": 23,
   "id": "132d96d7",
   "metadata": {},
   "outputs": [
    {
     "data": {
      "text/plain": [
       "466292"
      ]
     },
     "execution_count": 23,
     "metadata": {},
     "output_type": "execute_result"
    }
   ],
   "source": [
    "x.char_len()"
   ]
  },
  {
   "cell_type": "code",
   "execution_count": 24,
   "id": "f7125f4b",
   "metadata": {},
   "outputs": [
    {
     "data": {
      "text/plain": [
       "4.749793727271801"
      ]
     },
     "execution_count": 24,
     "metadata": {},
     "output_type": "execute_result"
    }
   ],
   "source": [
    "x.char_avg()"
   ]
  },
  {
   "cell_type": "code",
   "execution_count": 25,
   "id": "bf865cbb",
   "metadata": {},
   "outputs": [
    {
     "name": "stdout",
     "output_type": "stream",
     "text": [
      "Length Of Vocab :  7811\n",
      "Total Words :  98171\n"
     ]
    },
    {
     "data": {
      "text/plain": [
       "0.07956524839310998"
      ]
     },
     "execution_count": 25,
     "metadata": {},
     "output_type": "execute_result"
    }
   ],
   "source": [
    "x.ttr()"
   ]
  },
  {
   "cell_type": "markdown",
   "id": "af1d710b",
   "metadata": {},
   "source": [
    "## c. To access Brown corpus from nltk and list all the available texts"
   ]
  },
  {
   "cell_type": "code",
   "execution_count": 28,
   "id": "bcddca29",
   "metadata": {},
   "outputs": [],
   "source": [
    "from nltk.corpus import brown as brown"
   ]
  },
  {
   "cell_type": "code",
   "execution_count": 32,
   "id": "b32e9b92",
   "metadata": {},
   "outputs": [
    {
     "data": {
      "text/plain": [
       "['ca01',\n",
       " 'ca02',\n",
       " 'ca03',\n",
       " 'ca04',\n",
       " 'ca05',\n",
       " 'ca06',\n",
       " 'ca07',\n",
       " 'ca08',\n",
       " 'ca09',\n",
       " 'ca10',\n",
       " 'ca11',\n",
       " 'ca12',\n",
       " 'ca13',\n",
       " 'ca14',\n",
       " 'ca15',\n",
       " 'ca16',\n",
       " 'ca17',\n",
       " 'ca18',\n",
       " 'ca19',\n",
       " 'ca20',\n",
       " 'ca21',\n",
       " 'ca22',\n",
       " 'ca23',\n",
       " 'ca24',\n",
       " 'ca25',\n",
       " 'ca26',\n",
       " 'ca27',\n",
       " 'ca28',\n",
       " 'ca29',\n",
       " 'ca30',\n",
       " 'ca31',\n",
       " 'ca32',\n",
       " 'ca33',\n",
       " 'ca34',\n",
       " 'ca35',\n",
       " 'ca36',\n",
       " 'ca37',\n",
       " 'ca38',\n",
       " 'ca39',\n",
       " 'ca40',\n",
       " 'ca41',\n",
       " 'ca42',\n",
       " 'ca43',\n",
       " 'ca44',\n",
       " 'cb01',\n",
       " 'cb02',\n",
       " 'cb03',\n",
       " 'cb04',\n",
       " 'cb05',\n",
       " 'cb06',\n",
       " 'cb07',\n",
       " 'cb08',\n",
       " 'cb09',\n",
       " 'cb10',\n",
       " 'cb11',\n",
       " 'cb12',\n",
       " 'cb13',\n",
       " 'cb14',\n",
       " 'cb15',\n",
       " 'cb16',\n",
       " 'cb17',\n",
       " 'cb18',\n",
       " 'cb19',\n",
       " 'cb20',\n",
       " 'cb21',\n",
       " 'cb22',\n",
       " 'cb23',\n",
       " 'cb24',\n",
       " 'cb25',\n",
       " 'cb26',\n",
       " 'cb27',\n",
       " 'cc01',\n",
       " 'cc02',\n",
       " 'cc03',\n",
       " 'cc04',\n",
       " 'cc05',\n",
       " 'cc06',\n",
       " 'cc07',\n",
       " 'cc08',\n",
       " 'cc09',\n",
       " 'cc10',\n",
       " 'cc11',\n",
       " 'cc12',\n",
       " 'cc13',\n",
       " 'cc14',\n",
       " 'cc15',\n",
       " 'cc16',\n",
       " 'cc17',\n",
       " 'cd01',\n",
       " 'cd02',\n",
       " 'cd03',\n",
       " 'cd04',\n",
       " 'cd05',\n",
       " 'cd06',\n",
       " 'cd07',\n",
       " 'cd08',\n",
       " 'cd09',\n",
       " 'cd10',\n",
       " 'cd11',\n",
       " 'cd12',\n",
       " 'cd13',\n",
       " 'cd14',\n",
       " 'cd15',\n",
       " 'cd16',\n",
       " 'cd17',\n",
       " 'ce01',\n",
       " 'ce02',\n",
       " 'ce03',\n",
       " 'ce04',\n",
       " 'ce05',\n",
       " 'ce06',\n",
       " 'ce07',\n",
       " 'ce08',\n",
       " 'ce09',\n",
       " 'ce10',\n",
       " 'ce11',\n",
       " 'ce12',\n",
       " 'ce13',\n",
       " 'ce14',\n",
       " 'ce15',\n",
       " 'ce16',\n",
       " 'ce17',\n",
       " 'ce18',\n",
       " 'ce19',\n",
       " 'ce20',\n",
       " 'ce21',\n",
       " 'ce22',\n",
       " 'ce23',\n",
       " 'ce24',\n",
       " 'ce25',\n",
       " 'ce26',\n",
       " 'ce27',\n",
       " 'ce28',\n",
       " 'ce29',\n",
       " 'ce30',\n",
       " 'ce31',\n",
       " 'ce32',\n",
       " 'ce33',\n",
       " 'ce34',\n",
       " 'ce35',\n",
       " 'ce36',\n",
       " 'cf01',\n",
       " 'cf02',\n",
       " 'cf03',\n",
       " 'cf04',\n",
       " 'cf05',\n",
       " 'cf06',\n",
       " 'cf07',\n",
       " 'cf08',\n",
       " 'cf09',\n",
       " 'cf10',\n",
       " 'cf11',\n",
       " 'cf12',\n",
       " 'cf13',\n",
       " 'cf14',\n",
       " 'cf15',\n",
       " 'cf16',\n",
       " 'cf17',\n",
       " 'cf18',\n",
       " 'cf19',\n",
       " 'cf20',\n",
       " 'cf21',\n",
       " 'cf22',\n",
       " 'cf23',\n",
       " 'cf24',\n",
       " 'cf25',\n",
       " 'cf26',\n",
       " 'cf27',\n",
       " 'cf28',\n",
       " 'cf29',\n",
       " 'cf30',\n",
       " 'cf31',\n",
       " 'cf32',\n",
       " 'cf33',\n",
       " 'cf34',\n",
       " 'cf35',\n",
       " 'cf36',\n",
       " 'cf37',\n",
       " 'cf38',\n",
       " 'cf39',\n",
       " 'cf40',\n",
       " 'cf41',\n",
       " 'cf42',\n",
       " 'cf43',\n",
       " 'cf44',\n",
       " 'cf45',\n",
       " 'cf46',\n",
       " 'cf47',\n",
       " 'cf48',\n",
       " 'cg01',\n",
       " 'cg02',\n",
       " 'cg03',\n",
       " 'cg04',\n",
       " 'cg05',\n",
       " 'cg06',\n",
       " 'cg07',\n",
       " 'cg08',\n",
       " 'cg09',\n",
       " 'cg10',\n",
       " 'cg11',\n",
       " 'cg12',\n",
       " 'cg13',\n",
       " 'cg14',\n",
       " 'cg15',\n",
       " 'cg16',\n",
       " 'cg17',\n",
       " 'cg18',\n",
       " 'cg19',\n",
       " 'cg20',\n",
       " 'cg21',\n",
       " 'cg22',\n",
       " 'cg23',\n",
       " 'cg24',\n",
       " 'cg25',\n",
       " 'cg26',\n",
       " 'cg27',\n",
       " 'cg28',\n",
       " 'cg29',\n",
       " 'cg30',\n",
       " 'cg31',\n",
       " 'cg32',\n",
       " 'cg33',\n",
       " 'cg34',\n",
       " 'cg35',\n",
       " 'cg36',\n",
       " 'cg37',\n",
       " 'cg38',\n",
       " 'cg39',\n",
       " 'cg40',\n",
       " 'cg41',\n",
       " 'cg42',\n",
       " 'cg43',\n",
       " 'cg44',\n",
       " 'cg45',\n",
       " 'cg46',\n",
       " 'cg47',\n",
       " 'cg48',\n",
       " 'cg49',\n",
       " 'cg50',\n",
       " 'cg51',\n",
       " 'cg52',\n",
       " 'cg53',\n",
       " 'cg54',\n",
       " 'cg55',\n",
       " 'cg56',\n",
       " 'cg57',\n",
       " 'cg58',\n",
       " 'cg59',\n",
       " 'cg60',\n",
       " 'cg61',\n",
       " 'cg62',\n",
       " 'cg63',\n",
       " 'cg64',\n",
       " 'cg65',\n",
       " 'cg66',\n",
       " 'cg67',\n",
       " 'cg68',\n",
       " 'cg69',\n",
       " 'cg70',\n",
       " 'cg71',\n",
       " 'cg72',\n",
       " 'cg73',\n",
       " 'cg74',\n",
       " 'cg75',\n",
       " 'ch01',\n",
       " 'ch02',\n",
       " 'ch03',\n",
       " 'ch04',\n",
       " 'ch05',\n",
       " 'ch06',\n",
       " 'ch07',\n",
       " 'ch08',\n",
       " 'ch09',\n",
       " 'ch10',\n",
       " 'ch11',\n",
       " 'ch12',\n",
       " 'ch13',\n",
       " 'ch14',\n",
       " 'ch15',\n",
       " 'ch16',\n",
       " 'ch17',\n",
       " 'ch18',\n",
       " 'ch19',\n",
       " 'ch20',\n",
       " 'ch21',\n",
       " 'ch22',\n",
       " 'ch23',\n",
       " 'ch24',\n",
       " 'ch25',\n",
       " 'ch26',\n",
       " 'ch27',\n",
       " 'ch28',\n",
       " 'ch29',\n",
       " 'ch30',\n",
       " 'cj01',\n",
       " 'cj02',\n",
       " 'cj03',\n",
       " 'cj04',\n",
       " 'cj05',\n",
       " 'cj06',\n",
       " 'cj07',\n",
       " 'cj08',\n",
       " 'cj09',\n",
       " 'cj10',\n",
       " 'cj11',\n",
       " 'cj12',\n",
       " 'cj13',\n",
       " 'cj14',\n",
       " 'cj15',\n",
       " 'cj16',\n",
       " 'cj17',\n",
       " 'cj18',\n",
       " 'cj19',\n",
       " 'cj20',\n",
       " 'cj21',\n",
       " 'cj22',\n",
       " 'cj23',\n",
       " 'cj24',\n",
       " 'cj25',\n",
       " 'cj26',\n",
       " 'cj27',\n",
       " 'cj28',\n",
       " 'cj29',\n",
       " 'cj30',\n",
       " 'cj31',\n",
       " 'cj32',\n",
       " 'cj33',\n",
       " 'cj34',\n",
       " 'cj35',\n",
       " 'cj36',\n",
       " 'cj37',\n",
       " 'cj38',\n",
       " 'cj39',\n",
       " 'cj40',\n",
       " 'cj41',\n",
       " 'cj42',\n",
       " 'cj43',\n",
       " 'cj44',\n",
       " 'cj45',\n",
       " 'cj46',\n",
       " 'cj47',\n",
       " 'cj48',\n",
       " 'cj49',\n",
       " 'cj50',\n",
       " 'cj51',\n",
       " 'cj52',\n",
       " 'cj53',\n",
       " 'cj54',\n",
       " 'cj55',\n",
       " 'cj56',\n",
       " 'cj57',\n",
       " 'cj58',\n",
       " 'cj59',\n",
       " 'cj60',\n",
       " 'cj61',\n",
       " 'cj62',\n",
       " 'cj63',\n",
       " 'cj64',\n",
       " 'cj65',\n",
       " 'cj66',\n",
       " 'cj67',\n",
       " 'cj68',\n",
       " 'cj69',\n",
       " 'cj70',\n",
       " 'cj71',\n",
       " 'cj72',\n",
       " 'cj73',\n",
       " 'cj74',\n",
       " 'cj75',\n",
       " 'cj76',\n",
       " 'cj77',\n",
       " 'cj78',\n",
       " 'cj79',\n",
       " 'cj80',\n",
       " 'ck01',\n",
       " 'ck02',\n",
       " 'ck03',\n",
       " 'ck04',\n",
       " 'ck05',\n",
       " 'ck06',\n",
       " 'ck07',\n",
       " 'ck08',\n",
       " 'ck09',\n",
       " 'ck10',\n",
       " 'ck11',\n",
       " 'ck12',\n",
       " 'ck13',\n",
       " 'ck14',\n",
       " 'ck15',\n",
       " 'ck16',\n",
       " 'ck17',\n",
       " 'ck18',\n",
       " 'ck19',\n",
       " 'ck20',\n",
       " 'ck21',\n",
       " 'ck22',\n",
       " 'ck23',\n",
       " 'ck24',\n",
       " 'ck25',\n",
       " 'ck26',\n",
       " 'ck27',\n",
       " 'ck28',\n",
       " 'ck29',\n",
       " 'cl01',\n",
       " 'cl02',\n",
       " 'cl03',\n",
       " 'cl04',\n",
       " 'cl05',\n",
       " 'cl06',\n",
       " 'cl07',\n",
       " 'cl08',\n",
       " 'cl09',\n",
       " 'cl10',\n",
       " 'cl11',\n",
       " 'cl12',\n",
       " 'cl13',\n",
       " 'cl14',\n",
       " 'cl15',\n",
       " 'cl16',\n",
       " 'cl17',\n",
       " 'cl18',\n",
       " 'cl19',\n",
       " 'cl20',\n",
       " 'cl21',\n",
       " 'cl22',\n",
       " 'cl23',\n",
       " 'cl24',\n",
       " 'cm01',\n",
       " 'cm02',\n",
       " 'cm03',\n",
       " 'cm04',\n",
       " 'cm05',\n",
       " 'cm06',\n",
       " 'cn01',\n",
       " 'cn02',\n",
       " 'cn03',\n",
       " 'cn04',\n",
       " 'cn05',\n",
       " 'cn06',\n",
       " 'cn07',\n",
       " 'cn08',\n",
       " 'cn09',\n",
       " 'cn10',\n",
       " 'cn11',\n",
       " 'cn12',\n",
       " 'cn13',\n",
       " 'cn14',\n",
       " 'cn15',\n",
       " 'cn16',\n",
       " 'cn17',\n",
       " 'cn18',\n",
       " 'cn19',\n",
       " 'cn20',\n",
       " 'cn21',\n",
       " 'cn22',\n",
       " 'cn23',\n",
       " 'cn24',\n",
       " 'cn25',\n",
       " 'cn26',\n",
       " 'cn27',\n",
       " 'cn28',\n",
       " 'cn29',\n",
       " 'cp01',\n",
       " 'cp02',\n",
       " 'cp03',\n",
       " 'cp04',\n",
       " 'cp05',\n",
       " 'cp06',\n",
       " 'cp07',\n",
       " 'cp08',\n",
       " 'cp09',\n",
       " 'cp10',\n",
       " 'cp11',\n",
       " 'cp12',\n",
       " 'cp13',\n",
       " 'cp14',\n",
       " 'cp15',\n",
       " 'cp16',\n",
       " 'cp17',\n",
       " 'cp18',\n",
       " 'cp19',\n",
       " 'cp20',\n",
       " 'cp21',\n",
       " 'cp22',\n",
       " 'cp23',\n",
       " 'cp24',\n",
       " 'cp25',\n",
       " 'cp26',\n",
       " 'cp27',\n",
       " 'cp28',\n",
       " 'cp29',\n",
       " 'cr01',\n",
       " 'cr02',\n",
       " 'cr03',\n",
       " 'cr04',\n",
       " 'cr05',\n",
       " 'cr06',\n",
       " 'cr07',\n",
       " 'cr08',\n",
       " 'cr09']"
      ]
     },
     "execution_count": 32,
     "metadata": {},
     "output_type": "execute_result"
    }
   ],
   "source": [
    "brown.fileids()"
   ]
  },
  {
   "cell_type": "code",
   "execution_count": null,
   "id": "f5d19ead",
   "metadata": {},
   "outputs": [],
   "source": []
  },
  {
   "cell_type": "markdown",
   "id": "9017b1ca",
   "metadata": {},
   "source": [
    "## d. To write a function to compare different genre (category) in Brown corpus\n",
    "\n",
    "        a.Total words in each category\n",
    "\n",
    "        b.Total sentences in each category\n",
    "\n",
    "        c.Explore FreqDist() function for each category"
   ]
  },
  {
   "cell_type": "code",
   "execution_count": 33,
   "id": "211d03a0",
   "metadata": {},
   "outputs": [],
   "source": [
    "class info_brown:\n",
    "    from nltk.corpus import brown as brown\n",
    "    \n",
    "    def __init__(self, fileid):\n",
    "        self.fileid = fileid\n",
    "        print(f\"Name Of The Book is: {self.fileid}\")\n",
    "        self.w_len = len(gt.words(self.fileid))\n",
    "    \n",
    "    def word_len(self):\n",
    "        return self.w_len\n",
    "    \n",
    "    def char_len(self):\n",
    "        return len(gt.raw(self.fileid))\n",
    "    \n",
    "    def sent_len(self):\n",
    "        return len(gt.sents(self.fileid))\n",
    "    \n",
    "    def char_avg(self):\n",
    "        return len(gt.raw(self.fileid))/len(gt.words(self.fileid))\n",
    "    \n",
    "    def ttr(self):\n",
    "        vocab = len(nltk.Text(gt.words(gt.fileids()[0])).vocab().keys())\n",
    "        print(\"Length Of Vocab : \",vocab)\n",
    "        print(\"Total Words : \", self.w_len)\n",
    "        return vocab/self.w_len"
   ]
  },
  {
   "cell_type": "markdown",
   "id": "43084a73",
   "metadata": {},
   "source": [
    "## e. To access text from web\n",
    "\n",
    "## f. Perform the following operations on the text\n",
    "\n",
    "        a.Tokenization\n",
    "\n",
    "        b.Obtain collocations\n",
    "\n",
    "        c.Find a particular word in the text\n",
    "\n",
    "## g. To access html documents \n",
    "\n",
    "## h. Perform the following operations on html text\n",
    "\n",
    "        a.Word tokenization\n",
    "\n",
    "        b.Concordance\n",
    "\n",
    "## i. To read text from local file on the disk\n",
    "\n",
    "## j. Perform tokenization\n",
    "\n",
    "## k. Draw a word cloud for the text document"
   ]
  },
  {
   "cell_type": "code",
   "execution_count": null,
   "id": "3796d695",
   "metadata": {},
   "outputs": [],
   "source": []
  },
  {
   "cell_type": "code",
   "execution_count": 34,
   "id": "51b88f0f",
   "metadata": {},
   "outputs": [
    {
     "data": {
      "text/plain": [
       "['The', 'Fulton', 'County', 'Grand', 'Jury', 'said', ...]"
      ]
     },
     "execution_count": 34,
     "metadata": {},
     "output_type": "execute_result"
    }
   ],
   "source": [
    "brown.words(brown.fileids()[0])"
   ]
  },
  {
   "cell_type": "code",
   "execution_count": null,
   "id": "caef47ed",
   "metadata": {},
   "outputs": [],
   "source": []
  },
  {
   "cell_type": "code",
   "execution_count": null,
   "id": "fe7dd618",
   "metadata": {},
   "outputs": [],
   "source": []
  }
 ],
 "metadata": {
  "kernelspec": {
   "display_name": "Python 3 (ipykernel)",
   "language": "python",
   "name": "python3"
  },
  "language_info": {
   "codemirror_mode": {
    "name": "ipython",
    "version": 3
   },
   "file_extension": ".py",
   "mimetype": "text/x-python",
   "name": "python",
   "nbconvert_exporter": "python",
   "pygments_lexer": "ipython3",
   "version": "3.10.6"
  }
 },
 "nbformat": 4,
 "nbformat_minor": 5
}
