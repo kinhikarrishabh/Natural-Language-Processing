{
 "cells": [
  {
   "cell_type": "code",
   "execution_count": 1,
   "id": "530e3c82",
   "metadata": {},
   "outputs": [],
   "source": [
    "import nltk\n",
    "import gensim\n",
    "from nltk.corpus import stopwords\n",
    "from nltk.tokenize import word_tokenize, sent_tokenize\n",
    "from gensim.models import Word2Vec"
   ]
  },
  {
   "cell_type": "code",
   "execution_count": 2,
   "id": "09b465e8",
   "metadata": {},
   "outputs": [],
   "source": [
    "def appropriation(txt):\n",
    "    sentences = sent_tokenize(txt)\n",
    "    data = []\n",
    "    for i in sentences:\n",
    "        temp = []\n",
    "        for j in word_tokenize(i):\n",
    "            temp.append(j.lower())\n",
    "\n",
    "        data.append(temp)\n",
    "    return data\n"
   ]
  },
  {
   "cell_type": "code",
   "execution_count": 6,
   "id": "59ae641b",
   "metadata": {},
   "outputs": [
    {
     "name": "stdout",
     "output_type": "stream",
     "text": [
      "Enter two words for comparison (separated by a space): exercise regular\n",
      "The cosine similarity between exercise and regular using CBOW is 0.01025729812681675\n",
      "The cosine similarity between exercise and regular using skip gram model is 0.013058866374194622\n",
      "----------------------------------------------------------------------------\n",
      "Word2Vec with Sentences\n",
      "----------------------------------------------------------------------------\n",
      "The cosine similarity between the two sentences using CBOW is: 0.9999998807907104\n",
      "The cosine similarity between the two sentences using Skip-gram is: 0.9999999403953552\n"
     ]
    }
   ],
   "source": [
    "para = \"The benefits of exercise. Regular exercise offers numerous benefits for both physical and mental health. Engaging in physical activity can improve cardiovascular health, boost energy levels, and help maintain a healthy weight. It also reduces the risk of chronic diseases like diabetes and heart disease.Exercise isn't just about physical health, though. It has a profound impact on mental well-being as well. When you work out, your body releases endorphins, which are natural mood lifters. This can reduce feelings of stress and anxiety while promoting a sense of overall happiness. In conclusion, incorporating regular exercise into your daily routine is a simple yet effective way to enhance your physical and mental health. So, whether it's going for a jog, hitting the gym, or even just taking a brisk walk, find an activity you enjoy and make it a part of your life.\"\n",
    "data = appropriation(para)\n",
    "\n",
    "model1 = gensim.models.Word2Vec(data, min_count = 1,\n",
    "\t\t\t\t\t\t\tvector_size = 100, window = 5)\n",
    "model2 = gensim.models.Word2Vec(data, min_count = 1, vector_size = 100,\n",
    "                                        window = 5, sg = 1)\n",
    "x, y = input(\"Enter two words for comparison (separated by a space): \").split()\n",
    "print(f\"The cosine similarity between {x} and {y} using CBOW is {model1.wv.similarity( x, y)}\")\n",
    "print(f\"The cosine similarity between {x} and {y} using skip gram model is {model2.wv.similarity( x, y)}\")\n",
    "\n",
    "print(\"----------------------------------------------------------------------------\")\n",
    "print(\"Word2Vec with Sentences\")\n",
    "print(\"----------------------------------------------------------------------------\")\n",
    "#Vector2Space Model with Sentence\n",
    "sen1 = \"He wanted to bring peace to his kingdom.\"\n",
    "sen2 = \"There were many others who wanted to become king.\"\n",
    "\n",
    "s1=appropriation(sen1)\n",
    "s2=appropriation(sen2)\n",
    "\n",
    "model1 = gensim.models.Word2Vec(s1, min_count = 1,vector_size = 100, window = 5)\n",
    "model2 = gensim.models.Word2Vec(s2, min_count = 1, vector_size = 100,window = 5, sg = 1)\n",
    "\n",
    "sentence_vector1 = sum(model1.wv[word] for word in sen1 if word in model1.wv) / len(sen1)\n",
    "sentence_vector2 = sum(model1.wv[word] for word in sen2 if word in model1.wv) / len(sen2)\n",
    "\n",
    "sentence_vector3 = sum(model2.wv[word] for word in sen1 if word in model2.wv) / len(sen1)\n",
    "sentence_vector4 = sum(model2.wv[word] for word in sen2 if word in model2.wv) / len(sen2)\n",
    "\n",
    "similarity_cbow = model1.wv.cosine_similarities(sentence_vector1, [sentence_vector2])[0]\n",
    "similarity_skipgram = model2.wv.cosine_similarities(sentence_vector3, [sentence_vector4])[0]\n",
    "\n",
    "print(f\"The cosine similarity between the two sentences using CBOW is: {similarity_cbow}\")\n",
    "print(f\"The cosine similarity between the two sentences using Skip-gram is: {similarity_skipgram}\")\n"
   ]
  },
  {
   "cell_type": "code",
   "execution_count": null,
   "id": "1ad95a63",
   "metadata": {},
   "outputs": [],
   "source": []
  }
 ],
 "metadata": {
  "kernelspec": {
   "display_name": "Python 3 (ipykernel)",
   "language": "python",
   "name": "python3"
  },
  "language_info": {
   "codemirror_mode": {
    "name": "ipython",
    "version": 3
   },
   "file_extension": ".py",
   "mimetype": "text/x-python",
   "name": "python",
   "nbconvert_exporter": "python",
   "pygments_lexer": "ipython3",
   "version": "3.10.6"
  }
 },
 "nbformat": 4,
 "nbformat_minor": 5
}
